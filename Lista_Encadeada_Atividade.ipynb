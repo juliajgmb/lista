{
  "nbformat": 4,
  "nbformat_minor": 0,
  "metadata": {
    "colab": {
      "provenance": [],
      "authorship_tag": "ABX9TyP4/ITM07c7t8E7uG/QeZPH",
      "include_colab_link": true
    },
    "kernelspec": {
      "name": "python3",
      "display_name": "Python 3"
    },
    "language_info": {
      "name": "python"
    }
  },
  "cells": [
    {
      "cell_type": "markdown",
      "metadata": {
        "id": "view-in-github",
        "colab_type": "text"
      },
      "source": [
        "<a href=\"https://colab.research.google.com/github/juliajgmb/lista/blob/main/Lista_Encadeada_Atividade.ipynb\" target=\"_parent\"><img src=\"https://colab.research.google.com/assets/colab-badge.svg\" alt=\"Open In Colab\"/></a>"
      ]
    },
    {
      "cell_type": "markdown",
      "source": [
        "Implemente uma lista encadeada de inteiros, utilizando alocação dinâmica de memória,\n",
        "com as seguintes operações:\n",
        "1. Criação da lista vazia;\n",
        "2. Verificar se a lista está vazia;\n",
        "3. Obter o tamanho da lista;\n",
        "4. Obter/modificar o valor do elemento de uma determinada\n",
        "posição na lista;\n",
        "5. Inserir um elemento em uma determinada posição;\n",
        "6. Retirar um elemento de uma determinada posição.\n",
        "7. Imprimir os elementos de toda a lista."
      ],
      "metadata": {
        "id": "IoPm9V0G570g"
      }
    },
    {
      "cell_type": "code",
      "source": [
        "# Definição do nó da lista\n",
        "class Node:\n",
        "    def __init__(self, valor):\n",
        "        self.valor = valor\n",
        "        self.proximo = None\n",
        "\n",
        "# Definição da lista encadeada\n",
        "class ListaEncadeada:\n",
        "    def __init__(self):\n",
        "        self.inicio = None\n",
        "\n",
        "    # 1. Verificar se a lista está vazia\n",
        "    def esta_vazia(self):\n",
        "        return self.inicio is None\n",
        "\n",
        "    # 2. Obter o tamanho da lista\n",
        "    def tamanho(self):\n",
        "        contador = 0\n",
        "        atual = self.inicio\n",
        "        while atual:\n",
        "            contador += 1\n",
        "            atual = atual.proximo\n",
        "        return contador\n",
        "\n",
        "    # 3. Obter valor de uma posição\n",
        "    def obter(self, posicao):\n",
        "        if posicao < 0 or posicao >= self.tamanho():\n",
        "            raise IndexError(\"Posição inválida\")\n",
        "        atual = self.inicio\n",
        "        for i in range(posicao):\n",
        "            atual = atual.proximo\n",
        "        return atual.valor\n",
        "\n",
        "    # 4. Modificar valor de uma posição\n",
        "    def modificar(self, posicao, novo_valor):\n",
        "        if posicao < 0 or posicao >= self.tamanho():\n",
        "            raise IndexError(\"Posição inválida\")\n",
        "        atual = self.inicio\n",
        "        for i in range(posicao):\n",
        "            atual = atual.proximo\n",
        "        atual.valor = novo_valor\n",
        "\n",
        "    # 5. Inserir em uma posição\n",
        "    def inserir(self, posicao, valor):\n",
        "        if posicao < 0 or posicao > self.tamanho():\n",
        "            raise IndexError(\"Posição inválida\")\n",
        "        novo = Node(valor)\n",
        "        if posicao == 0:\n",
        "            novo.proximo = self.inicio\n",
        "            self.inicio = novo\n",
        "        else:\n",
        "            atual = self.inicio\n",
        "            for i in range(posicao - 1):\n",
        "                atual = atual.proximo\n",
        "            novo.proximo = atual.proximo\n",
        "            atual.proximo = novo\n",
        "\n",
        "    # 6. Remover de uma posição\n",
        "    def remover(self, posicao):\n",
        "        if posicao < 0 or posicao >= self.tamanho():\n",
        "            raise IndexError(\"Posição inválida\")\n",
        "        if posicao == 0:\n",
        "            self.inicio = self.inicio.proximo\n",
        "        else:\n",
        "            atual = self.inicio\n",
        "            for i in range(posicao - 1):\n",
        "                atual = atual.proximo\n",
        "            atual.proximo = atual.proximo.proximo\n",
        "\n",
        "    # 7. Imprimir lista\n",
        "    def imprimir(self):\n",
        "        atual = self.inicio\n",
        "        while atual:\n",
        "            print(atual.valor, end=' -> ')\n",
        "            atual = atual.proximo\n",
        "        print('None')\n"
      ],
      "metadata": {
        "id": "5jZBfpXZIKo0"
      },
      "execution_count": 3,
      "outputs": []
    },
    {
      "cell_type": "code",
      "source": [
        "# Exemplo de uso:\n",
        "\n",
        "lista = ListaEncadeada()\n",
        "\n",
        "# Inserindo elementos\n",
        "lista.inserir(0, 10)\n",
        "lista.inserir(1, 20)\n",
        "lista.inserir(2, 30)\n",
        "lista.inserir(1, 15)  # insere 15 na posição 1\n",
        "\n",
        "# Imprimindo\n",
        "print(\"Lista atual:\")\n",
        "lista.imprimir()\n",
        "\n",
        "# Modificando\n",
        "lista.modificar(2, 25)\n",
        "\n",
        "# Obtendo valor\n",
        "print(\"Valor na posição 2:\", lista.obter(2))\n",
        "\n",
        "# Removendo\n",
        "lista.remover(1)\n",
        "\n",
        "# Lista final\n",
        "print(\"Lista após remoção:\")\n",
        "lista.imprimir()\n",
        "\n",
        "# Verificando tamanho e se está vazia\n",
        "print(\"Tamanho da lista:\", lista.tamanho())\n",
        "print(\"Está vazia?\", lista.esta_vazia())\n"
      ],
      "metadata": {
        "colab": {
          "base_uri": "https://localhost:8080/"
        },
        "id": "VNgC75DL6tQV",
        "outputId": "fe6c737f-32e3-470d-da2a-93b09704bd38"
      },
      "execution_count": 4,
      "outputs": [
        {
          "output_type": "stream",
          "name": "stdout",
          "text": [
            "Lista atual:\n",
            "10 -> 15 -> 20 -> 30 -> None\n",
            "Valor na posição 2: 25\n",
            "Lista após remoção:\n",
            "10 -> 25 -> 30 -> None\n",
            "Tamanho da lista: 3\n",
            "Está vazia? False\n"
          ]
        }
      ]
    },
    {
      "cell_type": "code",
      "source": [],
      "metadata": {
        "id": "uWNcJ8GK6v4L"
      },
      "execution_count": null,
      "outputs": []
    }
  ]
}