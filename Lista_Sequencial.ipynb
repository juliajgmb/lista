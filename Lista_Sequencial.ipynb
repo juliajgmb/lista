{
  "nbformat": 4,
  "nbformat_minor": 0,
  "metadata": {
    "colab": {
      "provenance": [],
      "authorship_tag": "ABX9TyOCbaT0TNKJZkQQY9Xjk9t4",
      "include_colab_link": true
    },
    "kernelspec": {
      "name": "python3",
      "display_name": "Python 3"
    },
    "language_info": {
      "name": "python"
    }
  },
  "cells": [
    {
      "cell_type": "markdown",
      "metadata": {
        "id": "view-in-github",
        "colab_type": "text"
      },
      "source": [
        "<a href=\"https://colab.research.google.com/github/juliajgmb/lista/blob/main/Lista_Sequencial.ipynb\" target=\"_parent\"><img src=\"https://colab.research.google.com/assets/colab-badge.svg\" alt=\"Open In Colab\"/></a>"
      ]
    },
    {
      "cell_type": "code",
      "execution_count": null,
      "metadata": {
        "id": "KNkiGCXBcqJt"
      },
      "outputs": [],
      "source": [
        "class ListaSequencial:\n",
        "    def __init__(self, capacidade):\n",
        "        self.capacidade = capacidade\n",
        "        self.dados = [None] * capacidade\n",
        "        self.tamanho_atual = 0\n",
        "\n",
        "    # 1. Verifica se está vazia\n",
        "    def esta_vazia(self):\n",
        "        return self.tamanho_atual == 0\n",
        "\n",
        "    # 2. Verifica se está cheia\n",
        "    def esta_cheia(self):\n",
        "        return self.tamanho_atual == self.capacidade\n",
        "\n",
        "    # 3. Tamanho atual\n",
        "    def tamanho(self):\n",
        "        return self.tamanho_atual\n",
        "\n",
        "    # 4. Obter valor em posição (posição começa em 1!)\n",
        "    def obter(self, posicao):\n",
        "        if posicao < 1 or posicao > self.tamanho_atual:\n",
        "            raise IndexError(\"Posição inválida\")\n",
        "        return self.dados[posicao - 1]\n",
        "\n",
        "    # 5. Modificar valor em posição (posição começa em 1!)\n",
        "    def modificar(self, posicao, valor):\n",
        "        if posicao < 1 or posicao > self.tamanho_atual:\n",
        "            raise IndexError(\"Posição inválida\")\n",
        "        self.dados[posicao - 1] = valor\n",
        "\n",
        "    # 6. Inserir valor na posição (posição começa em 1!)\n",
        "    def inserir(self, posicao, valor):\n",
        "        if self.esta_cheia():\n",
        "            raise OverflowError(\"Lista cheia\")\n",
        "        if posicao < 1 or posicao > self.tamanho_atual + 1:\n",
        "            raise IndexError(\"Posição inválida\")\n",
        "        # deslocar à direita\n",
        "        for i in range(self.tamanho_atual, posicao - 1, -1):\n",
        "            self.dados[i] = self.dados[i - 1]\n",
        "        self.dados[posicao - 1] = valor\n",
        "        self.tamanho_atual += 1\n",
        "\n",
        "    # 7. Remover elemento da posição (posição começa em 1!)\n",
        "    def remover(self, posicao):\n",
        "        if posicao < 1 or posicao > self.tamanho_atual:\n",
        "            raise IndexError(\"Posição inválida\")\n",
        "        for i in range(posicao - 1, self.tamanho_atual - 1):\n",
        "            self.dados[i] = self.dados[i + 1]\n",
        "        self.dados[self.tamanho_atual - 1] = None\n",
        "        self.tamanho_atual -= 1\n",
        "\n",
        "    # Imprimir lista\n",
        "    def imprimir(self):\n",
        "        for i in range(self.tamanho_atual):\n",
        "            print(self.dados[i], end=' ')\n",
        "        print()\n"
      ]
    },
    {
      "cell_type": "code",
      "source": [
        "lista = ListaSequencial(5)\n",
        "\n",
        "lista.inserir(1, 10)\n",
        "lista.inserir(2, 20)\n",
        "lista.inserir(2, 15)\n",
        "\n",
        "print(\"Lista atual:\")\n",
        "lista.imprimir()\n",
        "\n",
        "print(\"Elemento na posição 2:\", lista.obter(2))\n",
        "\n",
        "lista.modificar(2, 25)\n",
        "print(\"Após modificar posição 2 para 25:\")\n",
        "lista.imprimir()\n",
        "\n",
        "lista.remover(1)\n",
        "print(\"Após remover posição 1:\")\n",
        "lista.imprimir()\n",
        "\n",
        "print(\"Está vazia?\", lista.esta_vazia())\n",
        "print(\"Está cheia?\", lista.esta_cheia())\n",
        "print(\"Tamanho:\", lista.tamanho())\n"
      ],
      "metadata": {
        "id": "_3M-jvIkc2a5"
      },
      "execution_count": null,
      "outputs": []
    }
  ]
}